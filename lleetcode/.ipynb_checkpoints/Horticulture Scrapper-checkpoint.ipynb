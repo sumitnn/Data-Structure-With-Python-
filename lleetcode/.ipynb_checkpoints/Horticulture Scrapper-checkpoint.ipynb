{
 "cells": [
  {
   "cell_type": "code",
   "execution_count": 5,
   "id": "d4f0b3c9",
   "metadata": {},
   "outputs": [],
   "source": [
    "from bs4 import BeautifulSoup\n",
    "import requests\n",
    "import time\n",
    "from selenium import webdriver"
   ]
  },
  {
   "cell_type": "code",
   "execution_count": 6,
   "id": "f783e49a",
   "metadata": {},
   "outputs": [
    {
     "name": "stderr",
     "output_type": "stream",
     "text": [
      "<ipython-input-6-fc6a89d1ce62>:2: DeprecationWarning: executable_path has been deprecated, please pass in a Service object\n",
      "  driver = webdriver.Chrome(executable_path=\"chromedriver.exe\")\n"
     ]
    }
   ],
   "source": [
    "url = 'https://www.justdial.com/Delhi/Plant-Nurseries/nct-10373941'\n",
    "driver = webdriver.Chrome(executable_path=\"chromedriver.exe\")\n",
    "driver.get(url)\n",
    "time.sleep(3)\n",
    "content = driver.page_source\n",
    "soup = BeautifulSoup(content, 'html.parser')\n",
    "driver.close()"
   ]
  },
  {
   "cell_type": "code",
   "execution_count": 65,
   "id": "a22fda27",
   "metadata": {},
   "outputs": [],
   "source": [
    "r = soup.find('div', {\"id\": \"tab-5\"})\n",
    "r = r.find('ul', class_=\"rsl col-md-12 padding0\")\n",
    "r = r.findAll(\"li\")\n"
   ]
  },
  {
   "cell_type": "code",
   "execution_count": 74,
   "id": "e7d897b0",
   "metadata": {},
   "outputs": [
    {
     "name": "stdout",
     "output_type": "stream",
     "text": [
      "Saini Nursery\n",
      "11\n",
      "None\n",
      "None\n",
      "None\n",
      "None\n",
      "None\n",
      "None\n",
      "None\n",
      "None\n",
      "None\n",
      "None\n",
      "None\n"
     ]
    },
    {
     "ename": "AttributeError",
     "evalue": "'NoneType' object has no attribute 'find'",
     "output_type": "error",
     "traceback": [
      "\u001b[1;31m---------------------------------------------------------------------------\u001b[0m",
      "\u001b[1;31mAttributeError\u001b[0m                            Traceback (most recent call last)",
      "\u001b[1;32m<ipython-input-74-21c220b7de3d>\u001b[0m in \u001b[0;36m<module>\u001b[1;34m\u001b[0m\n\u001b[0;32m     17\u001b[0m \u001b[1;33m\u001b[0m\u001b[0m\n\u001b[0;32m     18\u001b[0m     \u001b[0mal\u001b[0m\u001b[1;33m=\u001b[0m\u001b[0mi\u001b[0m\u001b[1;33m.\u001b[0m\u001b[0mfind\u001b[0m\u001b[1;33m(\u001b[0m\u001b[1;34m'h2'\u001b[0m\u001b[1;33m,\u001b[0m \u001b[0mclass_\u001b[0m\u001b[1;33m=\u001b[0m\u001b[1;34m\"store-name\"\u001b[0m\u001b[1;33m)\u001b[0m\u001b[1;33m\u001b[0m\u001b[1;33m\u001b[0m\u001b[0m\n\u001b[1;32m---> 19\u001b[1;33m     \u001b[0macherlink\u001b[0m\u001b[1;33m=\u001b[0m\u001b[0mal\u001b[0m\u001b[1;33m.\u001b[0m\u001b[0mfind\u001b[0m\u001b[1;33m(\u001b[0m\u001b[1;34m\"a\"\u001b[0m\u001b[1;33m)\u001b[0m\u001b[1;33m.\u001b[0m\u001b[0mget\u001b[0m\u001b[1;33m(\u001b[0m\u001b[1;34m'href'\u001b[0m\u001b[1;33m)\u001b[0m\u001b[1;33m\u001b[0m\u001b[1;33m\u001b[0m\u001b[0m\n\u001b[0m\u001b[0;32m     20\u001b[0m     \u001b[0mprint\u001b[0m\u001b[1;33m(\u001b[0m\u001b[0macherlink\u001b[0m\u001b[1;33m)\u001b[0m\u001b[1;33m\u001b[0m\u001b[1;33m\u001b[0m\u001b[0m\n\u001b[0;32m     21\u001b[0m     \u001b[0mptag\u001b[0m\u001b[1;33m=\u001b[0m \u001b[0mi\u001b[0m\u001b[1;33m.\u001b[0m\u001b[0mfind\u001b[0m\u001b[1;33m(\u001b[0m\u001b[1;34m'p'\u001b[0m\u001b[1;33m,\u001b[0m \u001b[0mclass_\u001b[0m\u001b[1;33m=\u001b[0m\u001b[1;34m\"newrtings\"\u001b[0m\u001b[1;33m)\u001b[0m\u001b[1;33m\u001b[0m\u001b[1;33m\u001b[0m\u001b[0m\n",
      "\u001b[1;31mAttributeError\u001b[0m: 'NoneType' object has no attribute 'find'"
     ]
    }
   ],
   "source": [
    "for items in r:\n",
    "    i = items.find(\"section\", class_=\"jcar\")\n",
    "    i = i.findAll('div')[0]\n",
    "    title = i.find('h2', class_=\"store-name\").text.strip()\n",
    "    print(title)\n",
    "#     contag= i.find('p', class_=\"contact-info\")\n",
    "#     contact=contag.find(\"b\")\n",
    "#     print(len(contact))\n",
    "#     for i in contact:\n",
    "#         con=i.get(\"class\")[1]\n",
    "#         print(i.value)\n",
    "    \n",
    "    al=i.find('h2', class_=\"store-name\")\n",
    "    acherlink=al.find(\"a\").get('href')\n",
    "    print(acherlink)\n",
    "    ptag= i.find('p', class_=\"newrtings\")\n",
    "    rating = ptag.find('span', class_='green-box').text.strip()\n",
    "    votes = ptag.find('span', class_='rt_count lng_vote').text.replace(\"Votes\",'').strip()\n",
    "    print(rating)\n",
    "    print(votes)\n",
    "#     ii = i.find('p', class_=\"address-info tme_adrssec\").text.strip()\n",
    "    # address = ii.find('span', class_=\"cont_fl_addr\").text\n",
    "#     addressd = i.find('p', class_=\"address-info adinfoex\").text.strip().replace(\" \", '')\n",
    "#     print(rating)\n",
    "#     print(votes)\n",
    "#     print(contact)\n",
    "    # print(address)\n",
    "#     print(addressd)\n",
    "    break\n"
   ]
  },
  {
   "cell_type": "code",
   "execution_count": null,
   "id": "1867ccee",
   "metadata": {},
   "outputs": [],
   "source": []
  },
  {
   "cell_type": "code",
   "execution_count": null,
   "id": "67328689",
   "metadata": {},
   "outputs": [],
   "source": []
  },
  {
   "cell_type": "code",
   "execution_count": null,
   "id": "1d8cdf11",
   "metadata": {},
   "outputs": [],
   "source": []
  }
 ],
 "metadata": {
  "kernelspec": {
   "display_name": "Python 3",
   "language": "python",
   "name": "python3"
  },
  "language_info": {
   "codemirror_mode": {
    "name": "ipython",
    "version": 3
   },
   "file_extension": ".py",
   "mimetype": "text/x-python",
   "name": "python",
   "nbconvert_exporter": "python",
   "pygments_lexer": "ipython3",
   "version": "3.8.8"
  }
 },
 "nbformat": 4,
 "nbformat_minor": 5
}
